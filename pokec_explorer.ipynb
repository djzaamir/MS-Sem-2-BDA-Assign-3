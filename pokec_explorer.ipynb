{
 "cells": [
  {
   "cell_type": "code",
   "execution_count": 47,
   "metadata": {},
   "outputs": [],
   "source": [
    "import pyarrow.parquet as pq\n",
    "import pandas as pd"
   ]
  },
  {
   "cell_type": "code",
   "execution_count": 48,
   "metadata": {},
   "outputs": [],
   "source": [
    "# For main system\n",
    "data_URI = \"/home/djzaamir/Desktop/BDA-Assignment-1-Data/Cleaned-Data/pokec_dataset_processed.parquet\"\n",
    "# For tab\n",
    "# data_URI = \"/home/djzaamir/Desktop/Pokec_Cleaned_Data/pokec_dataset_processed.parquet\""
   ]
  },
  {
   "cell_type": "code",
   "execution_count": 49,
   "metadata": {},
   "outputs": [],
   "source": [
    "df_pokec = pq.read_pandas(data_URI).to_pandas()"
   ]
  },
  {
   "cell_type": "code",
   "execution_count": 50,
   "metadata": {},
   "outputs": [
    {
     "data": {
      "text/html": [
       "<div>\n",
       "<style scoped>\n",
       "    .dataframe tbody tr th:only-of-type {\n",
       "        vertical-align: middle;\n",
       "    }\n",
       "\n",
       "    .dataframe tbody tr th {\n",
       "        vertical-align: top;\n",
       "    }\n",
       "\n",
       "    .dataframe thead th {\n",
       "        text-align: right;\n",
       "    }\n",
       "</style>\n",
       "<table border=\"1\" class=\"dataframe\">\n",
       "  <thead>\n",
       "    <tr style=\"text-align: right;\">\n",
       "      <th></th>\n",
       "      <th>user_id</th>\n",
       "      <th>completion_percentage</th>\n",
       "      <th>AGE</th>\n",
       "      <th>GenderMF</th>\n",
       "      <th>Height</th>\n",
       "      <th>Weight</th>\n",
       "      <th>BMI</th>\n",
       "      <th>MaritalStatus</th>\n",
       "      <th>SmokingStatus</th>\n",
       "      <th>DrinkingStatus</th>\n",
       "      <th>...</th>\n",
       "      <th>I_like_music</th>\n",
       "      <th>I_mostly_like_listening_to_music</th>\n",
       "      <th>the_idea_of_good_evening</th>\n",
       "      <th>I_like_specialties_from_kitchen</th>\n",
       "      <th>I_am_going_to_concerts</th>\n",
       "      <th>my_active_sports</th>\n",
       "      <th>my_passive_sports</th>\n",
       "      <th>profession</th>\n",
       "      <th>I_like_books</th>\n",
       "      <th>life_style</th>\n",
       "    </tr>\n",
       "  </thead>\n",
       "  <tbody>\n",
       "    <tr>\n",
       "      <th>0</th>\n",
       "      <td>1</td>\n",
       "      <td>14</td>\n",
       "      <td>26</td>\n",
       "      <td>Male</td>\n",
       "      <td>185.0</td>\n",
       "      <td>90.0</td>\n",
       "      <td>26.296567</td>\n",
       "      <td>Other</td>\n",
       "      <td>Other</td>\n",
       "      <td>Other</td>\n",
       "      <td>...</td>\n",
       "      <td>None</td>\n",
       "      <td>None</td>\n",
       "      <td>None</td>\n",
       "      <td>None</td>\n",
       "      <td>None</td>\n",
       "      <td>None</td>\n",
       "      <td>None</td>\n",
       "      <td>None</td>\n",
       "      <td>None</td>\n",
       "      <td>None</td>\n",
       "    </tr>\n",
       "    <tr>\n",
       "      <th>1</th>\n",
       "      <td>2</td>\n",
       "      <td>62</td>\n",
       "      <td>22</td>\n",
       "      <td>Female</td>\n",
       "      <td>166.0</td>\n",
       "      <td>58.0</td>\n",
       "      <td>21.048048</td>\n",
       "      <td>Single</td>\n",
       "      <td>Non Smoker</td>\n",
       "      <td>Occasional Drinker</td>\n",
       "      <td>...</td>\n",
       "      <td>disko, pop, rap a jasn eto co teraz leti najvi...</td>\n",
       "      <td>na diskoteke, pri chodzi</td>\n",
       "      <td>pri svieckach s partnerom</td>\n",
       "      <td>slovenskej</td>\n",
       "      <td>None</td>\n",
       "      <td>None</td>\n",
       "      <td>None</td>\n",
       "      <td>None</td>\n",
       "      <td>None</td>\n",
       "      <td>None</td>\n",
       "    </tr>\n",
       "    <tr>\n",
       "      <th>2</th>\n",
       "      <td>16</td>\n",
       "      <td>64</td>\n",
       "      <td>23</td>\n",
       "      <td>Male</td>\n",
       "      <td>173.0</td>\n",
       "      <td>70.0</td>\n",
       "      <td>23.388687</td>\n",
       "      <td>Single</td>\n",
       "      <td>Other</td>\n",
       "      <td>Other</td>\n",
       "      <td>...</td>\n",
       "      <td>hoci co co zapasuje ale klasa vede atb samozre...</td>\n",
       "      <td>samozrejme sam kazdy ma iny vkus neda sa vsetk...</td>\n",
       "      <td>None</td>\n",
       "      <td>ak sa to da ziet tak setko</td>\n",
       "      <td>nie</td>\n",
       "      <td>lyzovanie, plavanie</td>\n",
       "      <td>non kanal</td>\n",
       "      <td>bit lepsi ako druhy</td>\n",
       "      <td>uz ich moc nectem</td>\n",
       "      <td>None</td>\n",
       "    </tr>\n",
       "    <tr>\n",
       "      <th>3</th>\n",
       "      <td>3</td>\n",
       "      <td>38</td>\n",
       "      <td>29</td>\n",
       "      <td>Male</td>\n",
       "      <td>172.0</td>\n",
       "      <td>63.0</td>\n",
       "      <td>21.295295</td>\n",
       "      <td>Single</td>\n",
       "      <td>Other</td>\n",
       "      <td>Other</td>\n",
       "      <td>...</td>\n",
       "      <td>rock, metal, house, techno, pop, oldies, jazz</td>\n",
       "      <td>v aute, v praci, na koncerte, s partnerom</td>\n",
       "      <td>None</td>\n",
       "      <td>slovenskej, talianskej, japonskej</td>\n",
       "      <td>pravidelne</td>\n",
       "      <td>hokej, futbal, auto-moto sporty, squash</td>\n",
       "      <td>auto-moto sporty, futbal, hokej</td>\n",
       "      <td>None</td>\n",
       "      <td>None</td>\n",
       "      <td>None</td>\n",
       "    </tr>\n",
       "    <tr>\n",
       "      <th>5</th>\n",
       "      <td>17</td>\n",
       "      <td>47</td>\n",
       "      <td>27</td>\n",
       "      <td>Female</td>\n",
       "      <td>162.0</td>\n",
       "      <td>60.0</td>\n",
       "      <td>22.862369</td>\n",
       "      <td>Other</td>\n",
       "      <td>Non Smoker</td>\n",
       "      <td>Occasional Drinker</td>\n",
       "      <td>...</td>\n",
       "      <td>None</td>\n",
       "      <td>None</td>\n",
       "      <td>None</td>\n",
       "      <td>None</td>\n",
       "      <td>None</td>\n",
       "      <td>aerobik, kolieskove korcule, plavanie, posilno...</td>\n",
       "      <td>None</td>\n",
       "      <td>zivnostnik</td>\n",
       "      <td>None</td>\n",
       "      <td>&lt;div&gt; &lt;a title=\"vstup do klubu\" href=\"/klub/ma...</td>\n",
       "    </tr>\n",
       "  </tbody>\n",
       "</table>\n",
       "<p>5 rows × 51 columns</p>\n",
       "</div>"
      ],
      "text/plain": [
       "   user_id  completion_percentage  AGE GenderMF  Height  Weight        BMI  \\\n",
       "0        1                     14   26     Male   185.0    90.0  26.296567   \n",
       "1        2                     62   22   Female   166.0    58.0  21.048048   \n",
       "2       16                     64   23     Male   173.0    70.0  23.388687   \n",
       "3        3                     38   29     Male   172.0    63.0  21.295295   \n",
       "5       17                     47   27   Female   162.0    60.0  22.862369   \n",
       "\n",
       "  MaritalStatus SmokingStatus      DrinkingStatus  ...  \\\n",
       "0         Other         Other               Other  ...   \n",
       "1        Single    Non Smoker  Occasional Drinker  ...   \n",
       "2        Single         Other               Other  ...   \n",
       "3        Single         Other               Other  ...   \n",
       "5         Other    Non Smoker  Occasional Drinker  ...   \n",
       "\n",
       "                                        I_like_music  \\\n",
       "0                                               None   \n",
       "1  disko, pop, rap a jasn eto co teraz leti najvi...   \n",
       "2  hoci co co zapasuje ale klasa vede atb samozre...   \n",
       "3      rock, metal, house, techno, pop, oldies, jazz   \n",
       "5                                               None   \n",
       "\n",
       "                    I_mostly_like_listening_to_music  \\\n",
       "0                                               None   \n",
       "1                           na diskoteke, pri chodzi   \n",
       "2  samozrejme sam kazdy ma iny vkus neda sa vsetk...   \n",
       "3          v aute, v praci, na koncerte, s partnerom   \n",
       "5                                               None   \n",
       "\n",
       "    the_idea_of_good_evening    I_like_specialties_from_kitchen  \\\n",
       "0                       None                               None   \n",
       "1  pri svieckach s partnerom                         slovenskej   \n",
       "2                       None         ak sa to da ziet tak setko   \n",
       "3                       None  slovenskej, talianskej, japonskej   \n",
       "5                       None                               None   \n",
       "\n",
       "  I_am_going_to_concerts                                   my_active_sports  \\\n",
       "0                   None                                               None   \n",
       "1                   None                                               None   \n",
       "2                    nie                                lyzovanie, plavanie   \n",
       "3             pravidelne            hokej, futbal, auto-moto sporty, squash   \n",
       "5                   None  aerobik, kolieskove korcule, plavanie, posilno...   \n",
       "\n",
       "                 my_passive_sports           profession       I_like_books  \\\n",
       "0                             None                 None               None   \n",
       "1                             None                 None               None   \n",
       "2                        non kanal  bit lepsi ako druhy  uz ich moc nectem   \n",
       "3  auto-moto sporty, futbal, hokej                 None               None   \n",
       "5                             None           zivnostnik               None   \n",
       "\n",
       "                                          life_style  \n",
       "0                                               None  \n",
       "1                                               None  \n",
       "2                                               None  \n",
       "3                                               None  \n",
       "5  <div> <a title=\"vstup do klubu\" href=\"/klub/ma...  \n",
       "\n",
       "[5 rows x 51 columns]"
      ]
     },
     "execution_count": 50,
     "metadata": {},
     "output_type": "execute_result"
    }
   ],
   "source": [
    "df_pokec.head()"
   ]
  },
  {
   "cell_type": "code",
   "execution_count": 51,
   "metadata": {},
   "outputs": [
    {
     "data": {
      "text/plain": [
       "Index(['user_id', 'completion_percentage', 'AGE', 'GenderMF', 'Height',\n",
       "       'Weight', 'BMI', 'MaritalStatus', 'SmokingStatus', 'DrinkingStatus',\n",
       "       'AgeGroup', 'YearsSinceReg', 'BMIGroup', 'ProfileStatus', 'region',\n",
       "       'last_login', 'registration', 'I_am_working_in_field',\n",
       "       'spoken_languages', 'hobbies', 'I_most_enjoy_good_food', 'pets',\n",
       "       'body_type', 'my_eyesight', 'eye_color', 'hair_color', 'hair_type',\n",
       "       'completed_level_of_education', 'favourite_color',\n",
       "       'relation_to_smoking', 'relation_to_alcohol', 'sign_in_zodiac',\n",
       "       'on_pokec_i_am_looking_for', 'love_is_for_me', 'relation_to_casual_sex',\n",
       "       'my_partner_should_be', 'marital_status', 'children',\n",
       "       'relation_to_children', 'I_like_movies', 'I_like_watching_movie',\n",
       "       'I_like_music', 'I_mostly_like_listening_to_music',\n",
       "       'the_idea_of_good_evening', 'I_like_specialties_from_kitchen',\n",
       "       'I_am_going_to_concerts', 'my_active_sports', 'my_passive_sports',\n",
       "       'profession', 'I_like_books', 'life_style'],\n",
       "      dtype='object')"
      ]
     },
     "execution_count": 51,
     "metadata": {},
     "output_type": "execute_result"
    }
   ],
   "source": [
    "df_pokec.columns"
   ]
  },
  {
   "cell_type": "code",
   "execution_count": 52,
   "metadata": {},
   "outputs": [],
   "source": [
    "# Dropping this particular column because it has the most null values\n",
    "# Af if dropna() called without dropping this column first, then it would cause a lot of the rows to be dropped\n",
    "df_pokec.drop(columns=[\"life_style\"], axis=0, inplace=True)"
   ]
  },
  {
   "cell_type": "code",
   "execution_count": 53,
   "metadata": {},
   "outputs": [],
   "source": [
    "# Now dropping null values\n",
    "df_pokec.dropna(inplace=True)"
   ]
  },
  {
   "cell_type": "code",
   "execution_count": 54,
   "metadata": {},
   "outputs": [
    {
     "data": {
      "text/plain": [
       "(79247, 50)"
      ]
     },
     "execution_count": 54,
     "metadata": {},
     "output_type": "execute_result"
    }
   ],
   "source": [
    "df_pokec.shape"
   ]
  },
  {
   "cell_type": "code",
   "execution_count": 55,
   "metadata": {},
   "outputs": [],
   "source": [
    "# Dividing data into three files, to simulate streams coming from different sources"
   ]
  },
  {
   "cell_type": "code",
   "execution_count": 56,
   "metadata": {},
   "outputs": [],
   "source": [
    "# Creating multiple overlapping chunks of data\n",
    "# Using the first 30K rows for historical data training of k-means\n",
    "\n",
    "df_chunk_a = df_pokec.iloc[30000:45000 , :]\n",
    "df_chunk_b = df_pokec.iloc[30000:60000 , :]\n",
    "df_chunk_c = df_pokec.iloc[30000:79247 , :]"
   ]
  },
  {
   "cell_type": "code",
   "execution_count": 57,
   "metadata": {},
   "outputs": [],
   "source": [
    "df_chunk_a.to_csv(\"/home/djzaamir/Desktop/BDA-Assignment-1-Data/Cleaned-Data/pokec_chunk_a.csv\", index=False)\n",
    "df_chunk_b.to_csv(\"/home/djzaamir/Desktop/BDA-Assignment-1-Data/Cleaned-Data/pokec_chunk_b.csv\", index=False)\n",
    "df_chunk_c.to_csv(\"/home/djzaamir/Desktop/BDA-Assignment-1-Data/Cleaned-Data/pokec_chunk_c.csv\", index=False)"
   ]
  },
  {
   "cell_type": "code",
   "execution_count": 59,
   "metadata": {},
   "outputs": [],
   "source": [
    "df_pokec_a = pd.read_csv(\"/home/djzaamir/Desktop/BDA-Assignment-1-Data/Cleaned-Data/pokec_chunk_a.csv\")"
   ]
  },
  {
   "cell_type": "code",
   "execution_count": null,
   "metadata": {},
   "outputs": [],
   "source": [
    "for i, data in df_pokec_a.iterrows():\n",
    "#     print(i)\n",
    "#     print(data[0:100])\n",
    "    break"
   ]
  },
  {
   "cell_type": "code",
   "execution_count": null,
   "metadata": {},
   "outputs": [],
   "source": [
    "for data_tuple in df_pokec_a.itertuples():\n",
    "    \n",
    "    obj_to_stream = {}\n",
    "    \n",
    "    for col_i in range(df_pokec_a.columns.shape[0]):\n",
    "        obj_to_stream[df_pokec_a.columns[col_i]] = data_tuple[col_i]\n",
    "    break"
   ]
  },
  {
   "cell_type": "code",
   "execution_count": null,
   "metadata": {},
   "outputs": [],
   "source": [
    "import json"
   ]
  },
  {
   "cell_type": "code",
   "execution_count": null,
   "metadata": {},
   "outputs": [],
   "source": [
    "json.dumps(obj_to_stream)"
   ]
  },
  {
   "cell_type": "code",
   "execution_count": null,
   "metadata": {},
   "outputs": [],
   "source": []
  }
 ],
 "metadata": {
  "kernelspec": {
   "display_name": "Python 3",
   "language": "python",
   "name": "python3"
  },
  "language_info": {
   "codemirror_mode": {
    "name": "ipython",
    "version": 3
   },
   "file_extension": ".py",
   "mimetype": "text/x-python",
   "name": "python",
   "nbconvert_exporter": "python",
   "pygments_lexer": "ipython3",
   "version": "3.8.3"
  }
 },
 "nbformat": 4,
 "nbformat_minor": 4
}
