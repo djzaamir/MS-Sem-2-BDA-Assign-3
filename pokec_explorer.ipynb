{
 "cells": [
  {
   "cell_type": "code",
   "execution_count": 15,
   "metadata": {},
   "outputs": [],
   "source": [
    "import pyarrow.parquet as pq\n",
    "import pandas as pd"
   ]
  },
  {
   "cell_type": "code",
   "execution_count": 16,
   "metadata": {},
   "outputs": [],
   "source": [
    "data_URI = \"/home/djzaamir/Desktop/Pokec_Cleaned_Data/pokec_dataset_processed.parquet\""
   ]
  },
  {
   "cell_type": "code",
   "execution_count": 17,
   "metadata": {},
   "outputs": [],
   "source": [
    "df_pokec = pq.read_pandas(data_URI).to_pandas()"
   ]
  },
  {
   "cell_type": "code",
   "execution_count": 18,
   "metadata": {},
   "outputs": [],
   "source": [
    "df_pokec.dropna(inplace=True)"
   ]
  },
  {
   "cell_type": "code",
   "execution_count": 19,
   "metadata": {},
   "outputs": [
    {
     "data": {
      "text/plain": [
       "Index(['user_id', 'completion_percentage', 'AGE', 'GenderMF', 'Height',\n",
       "       'Weight', 'BMI', 'MaritalStatus', 'SmokingStatus', 'DrinkingStatus',\n",
       "       'AgeGroup', 'YearsSinceReg', 'BMIGroup', 'ProfileStatus', 'region',\n",
       "       'last_login', 'registration', 'I_am_working_in_field',\n",
       "       'spoken_languages', 'hobbies', 'I_most_enjoy_good_food', 'pets',\n",
       "       'body_type', 'my_eyesight', 'eye_color', 'hair_color', 'hair_type',\n",
       "       'completed_level_of_education', 'favourite_color',\n",
       "       'relation_to_smoking', 'relation_to_alcohol', 'sign_in_zodiac',\n",
       "       'on_pokec_i_am_looking_for', 'love_is_for_me', 'relation_to_casual_sex',\n",
       "       'my_partner_should_be', 'marital_status', 'children',\n",
       "       'relation_to_children', 'I_like_movies', 'I_like_watching_movie',\n",
       "       'I_like_music', 'I_mostly_like_listening_to_music',\n",
       "       'the_idea_of_good_evening', 'I_like_specialties_from_kitchen',\n",
       "       'I_am_going_to_concerts', 'my_active_sports', 'my_passive_sports',\n",
       "       'profession', 'I_like_books', 'life_style'],\n",
       "      dtype='object')"
      ]
     },
     "execution_count": 19,
     "metadata": {},
     "output_type": "execute_result"
    }
   ],
   "source": [
    "df_pokec.columns"
   ]
  },
  {
   "cell_type": "code",
   "execution_count": 20,
   "metadata": {},
   "outputs": [],
   "source": [
    "# Select relevant columns at this stage, if required"
   ]
  },
  {
   "cell_type": "code",
   "execution_count": 21,
   "metadata": {},
   "outputs": [],
   "source": [
    "# Dividing data into three files, to simulate streams coming from different sources"
   ]
  },
  {
   "cell_type": "code",
   "execution_count": 22,
   "metadata": {},
   "outputs": [],
   "source": [
    "# Creating multiple overlapping chunks of data\n",
    "\n",
    "df_chunk_a = df_pokec.iloc[0:5000 , :]\n",
    "df_chunk_b = df_pokec.iloc[0:15000, :]\n",
    "df_chunk_c = df_pokec.iloc[:, :]"
   ]
  },
  {
   "cell_type": "code",
   "execution_count": 23,
   "metadata": {},
   "outputs": [],
   "source": [
    "df_chunk_a.to_csv(\"pokec_chunk_a.csv\", index=False)\n",
    "df_chunk_b.to_csv(\"pokec_chunk_b.csv\", index=False)\n",
    "df_chunk_c.to_csv(\"pokec_chunk_c.csv\", index=False)"
   ]
  },
  {
   "cell_type": "code",
   "execution_count": 24,
   "metadata": {},
   "outputs": [],
   "source": [
    "df_pokec_a = pd.read_csv(\"pokec_chunk_a.csv\")"
   ]
  },
  {
   "cell_type": "code",
   "execution_count": 35,
   "metadata": {},
   "outputs": [],
   "source": [
    "for i, data in df_pokec_a.iterrows():\n",
    "#     print(i)\n",
    "#     print(data[0:100])\n",
    "    break"
   ]
  },
  {
   "cell_type": "code",
   "execution_count": 41,
   "metadata": {},
   "outputs": [],
   "source": [
    "for data_tuple in df_pokec_a.itertuples():\n",
    "    \n",
    "    obj_to_stream = {}\n",
    "    \n",
    "    for col_i in range(df_pokec_a.columns.shape[0]):\n",
    "        obj_to_stream[df_pokec_a.columns[col_i]] = data_tuple[col_i]\n",
    "    break"
   ]
  },
  {
   "cell_type": "code",
   "execution_count": 44,
   "metadata": {},
   "outputs": [],
   "source": [
    "import json"
   ]
  },
  {
   "cell_type": "code",
   "execution_count": 45,
   "metadata": {},
   "outputs": [
    {
     "data": {
      "text/plain": [
       "'{\"user_id\": 0, \"completion_percentage\": 48, \"AGE\": 76, \"GenderMF\": 22, \"Height\": \"Male\", \"Weight\": 197.0, \"BMI\": 75.0, \"MaritalStatus\": 19.325414208044524, \"SmokingStatus\": \"Single\", \"DrinkingStatus\": \"Non Smoker\", \"AgeGroup\": \"Occasional Drinker\", \"YearsSinceReg\": \"15 - 24\", \"BMIGroup\": 13.0, \"ProfileStatus\": \"18 - 25\", \"region\": \"Public\", \"last_login\": \"zahranicie, zahranicie - ostatne\", \"registration\": \"2012-05-23 22:27:00\", \"I_am_working_in_field\": \"2008-03-18 00:00:00\", \"spoken_languages\": \"studujem\", \"hobbies\": \"anglicky, nemecky, slovensky, potichu a nahlas :d\", \"I_most_enjoy_good_food\": \"pozeranie filmov, tancovanie, kupalisko, jedlo, party, spanie, turistika, praca s pc, sex, priatelia, diskoteky\", \"pets\": \"pri telke, v dobrej restauracii, v posteli\", \"body_type\": \"mam psa, mam plazy, mam zopar zvieratiek ktore chovam vo vlasoch!heh\", \"my_eyesight\": \"velka a pekna\", \"eye_color\": \"zatial si dovidim na nos takze v poho :d\", \"hair_color\": \"podla toho ale mam sosovky\", \"hair_type\": \"cierne\", \"completed_level_of_education\": \"kratke\", \"favourite_color\": \"zakladne\", \"relation_to_smoking\": \"biela, cervena, cierna, modra, zelena, to je jedno!\", \"relation_to_alcohol\": \"uz nefajcim\", \"sign_in_zodiac\": \"pijem prilezitostne, cize kazdy den :d\", \"on_pokec_i_am_looking_for\": \"strelec\", \"love_is_for_me\": \"niekoho na chatovanie, dobreho priatela, priatelku\", \"relation_to_casual_sex\": \"v laske vidim zmysel zivota\", \"my_partner_should_be\": \"nedokazem mat s niekym sex bez lasky\", \"marital_status\": \"mojou chybajucou polovickou\", \"children\": \"slobodny(a)\", \"relation_to_children\": \"ninimalne ak ne viac :)\", \"I_like_movies\": \"v buducnosti chcem mat deti\", \"I_like_watching_movie\": \"akcne, horory, komedie, kasove trhaky\", \"I_like_music\": \"v kine, u priatela, priatelky\", \"I_mostly_like_listening_to_music\": \"disko, hitparadovky, pop, rap, sladaky, country, hip hop\", \"the_idea_of_good_evening\": \"na posteli, s partnerom, na diskoteke,  kedykolvek a kdekolvek\", \"I_like_specialties_from_kitchen\": \"ist do kina alebo divadla, ist do posilnovne, s kamaratmi do baru, pocuvat dobru hudbu, pozerat dobry film v tv, pc hry, surfovat na sieti a chatovat\", \"I_am_going_to_concerts\": \"vsetko co moja mamina navariiii!\", \"my_active_sports\": \"sem tam sa nieco pritrafi\", \"my_passive_sports\": \"liest oteckovi na nervy !!!:)\", \"profession\": \"bojove sporty, hokej, lyzovanie, posilnovanie, auto-moto sporty, futbal, korculovanie, plavanie, snowboarding\", \"I_like_books\": \"bytoby kolaudant...:d\", \"life_style\": \"o zabave, hry, humor, moc necitam\"}'"
      ]
     },
     "execution_count": 45,
     "metadata": {},
     "output_type": "execute_result"
    }
   ],
   "source": [
    "json.dumps(obj_to_stream)"
   ]
  },
  {
   "cell_type": "code",
   "execution_count": null,
   "metadata": {},
   "outputs": [],
   "source": []
  }
 ],
 "metadata": {
  "kernelspec": {
   "display_name": "Python 3",
   "language": "python",
   "name": "python3"
  },
  "language_info": {
   "codemirror_mode": {
    "name": "ipython",
    "version": 3
   },
   "file_extension": ".py",
   "mimetype": "text/x-python",
   "name": "python",
   "nbconvert_exporter": "python",
   "pygments_lexer": "ipython3",
   "version": "3.8.3"
  }
 },
 "nbformat": 4,
 "nbformat_minor": 4
}
